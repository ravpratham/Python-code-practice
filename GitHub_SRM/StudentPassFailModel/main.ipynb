{
 "cells": [
  {
   "cell_type": "code",
   "id": "initial_id",
   "metadata": {
    "collapsed": true,
    "ExecuteTime": {
     "end_time": "2024-10-07T14:48:57.844118Z",
     "start_time": "2024-10-07T14:48:57.023292Z"
    }
   },
   "source": [
    "import pandas as pd\n",
    "# Split the data into training and testing sets (70% training, 30% testing)\n",
    "from sklearn.model_selection import train_test_split\n",
    "# Train a Logistic Regression model\n",
    "from sklearn.linear_model import LogisticRegression\n",
    "from sklearn.metrics import accuracy_score"
   ],
   "outputs": [],
   "execution_count": 1
  },
  {
   "metadata": {
    "ExecuteTime": {
     "end_time": "2024-10-07T17:00:26.747362Z",
     "start_time": "2024-10-07T17:00:26.721700Z"
    }
   },
   "cell_type": "code",
   "source": [
    "# Reload the dataset\n",
    "file_path_new = r\"C:\\Pratham\\programmingProjects\\pythonProgrammes\\Python-code-practice\\GitHub_SRM\\ClusteringProject\\StudentsPerformance.csv\"\n",
    "students_data_new = pd.read_csv(file_path_new)\n",
    "\n",
    "# Display the first few rows of the new dataset\n",
    "students_data_new.head()"
   ],
   "id": "10331a03782a0c76",
   "outputs": [
    {
     "data": {
      "text/plain": [
       "   gender race/ethnicity  math score  reading score  writing score\n",
       "0  female        group B          72             72             74\n",
       "1  female        group C          69             90             88\n",
       "2  female        group B          90             95             93\n",
       "3    male        group A          47             57             44\n",
       "4    male        group C          76             78             75"
      ],
      "text/html": [
       "<div>\n",
       "<style scoped>\n",
       "    .dataframe tbody tr th:only-of-type {\n",
       "        vertical-align: middle;\n",
       "    }\n",
       "\n",
       "    .dataframe tbody tr th {\n",
       "        vertical-align: top;\n",
       "    }\n",
       "\n",
       "    .dataframe thead th {\n",
       "        text-align: right;\n",
       "    }\n",
       "</style>\n",
       "<table border=\"1\" class=\"dataframe\">\n",
       "  <thead>\n",
       "    <tr style=\"text-align: right;\">\n",
       "      <th></th>\n",
       "      <th>gender</th>\n",
       "      <th>race/ethnicity</th>\n",
       "      <th>math score</th>\n",
       "      <th>reading score</th>\n",
       "      <th>writing score</th>\n",
       "    </tr>\n",
       "  </thead>\n",
       "  <tbody>\n",
       "    <tr>\n",
       "      <th>0</th>\n",
       "      <td>female</td>\n",
       "      <td>group B</td>\n",
       "      <td>72</td>\n",
       "      <td>72</td>\n",
       "      <td>74</td>\n",
       "    </tr>\n",
       "    <tr>\n",
       "      <th>1</th>\n",
       "      <td>female</td>\n",
       "      <td>group C</td>\n",
       "      <td>69</td>\n",
       "      <td>90</td>\n",
       "      <td>88</td>\n",
       "    </tr>\n",
       "    <tr>\n",
       "      <th>2</th>\n",
       "      <td>female</td>\n",
       "      <td>group B</td>\n",
       "      <td>90</td>\n",
       "      <td>95</td>\n",
       "      <td>93</td>\n",
       "    </tr>\n",
       "    <tr>\n",
       "      <th>3</th>\n",
       "      <td>male</td>\n",
       "      <td>group A</td>\n",
       "      <td>47</td>\n",
       "      <td>57</td>\n",
       "      <td>44</td>\n",
       "    </tr>\n",
       "    <tr>\n",
       "      <th>4</th>\n",
       "      <td>male</td>\n",
       "      <td>group C</td>\n",
       "      <td>76</td>\n",
       "      <td>78</td>\n",
       "      <td>75</td>\n",
       "    </tr>\n",
       "  </tbody>\n",
       "</table>\n",
       "</div>"
      ]
     },
     "execution_count": 59,
     "metadata": {},
     "output_type": "execute_result"
    }
   ],
   "execution_count": 59
  },
  {
   "metadata": {
    "ExecuteTime": {
     "end_time": "2024-10-07T17:00:31.937200Z",
     "start_time": "2024-10-07T17:00:31.905550Z"
    }
   },
   "cell_type": "code",
   "source": [
    "# Step 1: Create a pass/fail column based on the average score threshold (e.g., 40)\n",
    "students_data_new['average_score'] = students_data_new[['math score', 'reading score', 'writing score']].mean(axis=1)\n",
    "students_data_new['pass/fail'] = students_data_new['average_score'].apply(lambda x: 1 if x >= 40 else 0)\n",
    "display(students_data_new.head())"
   ],
   "id": "5c3936779d5e316f",
   "outputs": [
    {
     "data": {
      "text/plain": [
       "   gender race/ethnicity  math score  reading score  writing score  \\\n",
       "0  female        group B          72             72             74   \n",
       "1  female        group C          69             90             88   \n",
       "2  female        group B          90             95             93   \n",
       "3    male        group A          47             57             44   \n",
       "4    male        group C          76             78             75   \n",
       "\n",
       "   average_score  pass/fail  \n",
       "0      72.666667          1  \n",
       "1      82.333333          1  \n",
       "2      92.666667          1  \n",
       "3      49.333333          1  \n",
       "4      76.333333          1  "
      ],
      "text/html": [
       "<div>\n",
       "<style scoped>\n",
       "    .dataframe tbody tr th:only-of-type {\n",
       "        vertical-align: middle;\n",
       "    }\n",
       "\n",
       "    .dataframe tbody tr th {\n",
       "        vertical-align: top;\n",
       "    }\n",
       "\n",
       "    .dataframe thead th {\n",
       "        text-align: right;\n",
       "    }\n",
       "</style>\n",
       "<table border=\"1\" class=\"dataframe\">\n",
       "  <thead>\n",
       "    <tr style=\"text-align: right;\">\n",
       "      <th></th>\n",
       "      <th>gender</th>\n",
       "      <th>race/ethnicity</th>\n",
       "      <th>math score</th>\n",
       "      <th>reading score</th>\n",
       "      <th>writing score</th>\n",
       "      <th>average_score</th>\n",
       "      <th>pass/fail</th>\n",
       "    </tr>\n",
       "  </thead>\n",
       "  <tbody>\n",
       "    <tr>\n",
       "      <th>0</th>\n",
       "      <td>female</td>\n",
       "      <td>group B</td>\n",
       "      <td>72</td>\n",
       "      <td>72</td>\n",
       "      <td>74</td>\n",
       "      <td>72.666667</td>\n",
       "      <td>1</td>\n",
       "    </tr>\n",
       "    <tr>\n",
       "      <th>1</th>\n",
       "      <td>female</td>\n",
       "      <td>group C</td>\n",
       "      <td>69</td>\n",
       "      <td>90</td>\n",
       "      <td>88</td>\n",
       "      <td>82.333333</td>\n",
       "      <td>1</td>\n",
       "    </tr>\n",
       "    <tr>\n",
       "      <th>2</th>\n",
       "      <td>female</td>\n",
       "      <td>group B</td>\n",
       "      <td>90</td>\n",
       "      <td>95</td>\n",
       "      <td>93</td>\n",
       "      <td>92.666667</td>\n",
       "      <td>1</td>\n",
       "    </tr>\n",
       "    <tr>\n",
       "      <th>3</th>\n",
       "      <td>male</td>\n",
       "      <td>group A</td>\n",
       "      <td>47</td>\n",
       "      <td>57</td>\n",
       "      <td>44</td>\n",
       "      <td>49.333333</td>\n",
       "      <td>1</td>\n",
       "    </tr>\n",
       "    <tr>\n",
       "      <th>4</th>\n",
       "      <td>male</td>\n",
       "      <td>group C</td>\n",
       "      <td>76</td>\n",
       "      <td>78</td>\n",
       "      <td>75</td>\n",
       "      <td>76.333333</td>\n",
       "      <td>1</td>\n",
       "    </tr>\n",
       "  </tbody>\n",
       "</table>\n",
       "</div>"
      ]
     },
     "metadata": {},
     "output_type": "display_data"
    }
   ],
   "execution_count": 60
  },
  {
   "metadata": {
    "ExecuteTime": {
     "end_time": "2024-10-07T17:00:35.996031Z",
     "start_time": "2024-10-07T17:00:35.963276Z"
    }
   },
   "cell_type": "code",
   "source": [
    "# Drop the 'average_score' column as it is not needed for the prediction\n",
    "students_data_new = students_data_new.drop('average_score', axis=1)\n",
    "display(students_data_new.head())"
   ],
   "id": "9efd509ef3f547a4",
   "outputs": [
    {
     "data": {
      "text/plain": [
       "   gender race/ethnicity  math score  reading score  writing score  pass/fail\n",
       "0  female        group B          72             72             74          1\n",
       "1  female        group C          69             90             88          1\n",
       "2  female        group B          90             95             93          1\n",
       "3    male        group A          47             57             44          1\n",
       "4    male        group C          76             78             75          1"
      ],
      "text/html": [
       "<div>\n",
       "<style scoped>\n",
       "    .dataframe tbody tr th:only-of-type {\n",
       "        vertical-align: middle;\n",
       "    }\n",
       "\n",
       "    .dataframe tbody tr th {\n",
       "        vertical-align: top;\n",
       "    }\n",
       "\n",
       "    .dataframe thead th {\n",
       "        text-align: right;\n",
       "    }\n",
       "</style>\n",
       "<table border=\"1\" class=\"dataframe\">\n",
       "  <thead>\n",
       "    <tr style=\"text-align: right;\">\n",
       "      <th></th>\n",
       "      <th>gender</th>\n",
       "      <th>race/ethnicity</th>\n",
       "      <th>math score</th>\n",
       "      <th>reading score</th>\n",
       "      <th>writing score</th>\n",
       "      <th>pass/fail</th>\n",
       "    </tr>\n",
       "  </thead>\n",
       "  <tbody>\n",
       "    <tr>\n",
       "      <th>0</th>\n",
       "      <td>female</td>\n",
       "      <td>group B</td>\n",
       "      <td>72</td>\n",
       "      <td>72</td>\n",
       "      <td>74</td>\n",
       "      <td>1</td>\n",
       "    </tr>\n",
       "    <tr>\n",
       "      <th>1</th>\n",
       "      <td>female</td>\n",
       "      <td>group C</td>\n",
       "      <td>69</td>\n",
       "      <td>90</td>\n",
       "      <td>88</td>\n",
       "      <td>1</td>\n",
       "    </tr>\n",
       "    <tr>\n",
       "      <th>2</th>\n",
       "      <td>female</td>\n",
       "      <td>group B</td>\n",
       "      <td>90</td>\n",
       "      <td>95</td>\n",
       "      <td>93</td>\n",
       "      <td>1</td>\n",
       "    </tr>\n",
       "    <tr>\n",
       "      <th>3</th>\n",
       "      <td>male</td>\n",
       "      <td>group A</td>\n",
       "      <td>47</td>\n",
       "      <td>57</td>\n",
       "      <td>44</td>\n",
       "      <td>1</td>\n",
       "    </tr>\n",
       "    <tr>\n",
       "      <th>4</th>\n",
       "      <td>male</td>\n",
       "      <td>group C</td>\n",
       "      <td>76</td>\n",
       "      <td>78</td>\n",
       "      <td>75</td>\n",
       "      <td>1</td>\n",
       "    </tr>\n",
       "  </tbody>\n",
       "</table>\n",
       "</div>"
      ]
     },
     "metadata": {},
     "output_type": "display_data"
    }
   ],
   "execution_count": 61
  },
  {
   "metadata": {
    "ExecuteTime": {
     "end_time": "2024-10-07T17:01:08.851448Z",
     "start_time": "2024-10-07T17:01:08.818352Z"
    }
   },
   "cell_type": "code",
   "source": [
    "# Step 2: Preprocess the data\n",
    "# Convert categorical data (gender, race/ethnicity) using one-hot encoding\n",
    "students_data_new = pd.get_dummies(students_data_new, drop_first=True)\n",
    "display(students_data_new.head())"
   ],
   "id": "918cc198abdf7368",
   "outputs": [
    {
     "data": {
      "text/plain": [
       "   math score  reading score  writing score  pass/fail  gender_male  \\\n",
       "0          72             72             74          1        False   \n",
       "1          69             90             88          1        False   \n",
       "2          90             95             93          1        False   \n",
       "3          47             57             44          1         True   \n",
       "4          76             78             75          1         True   \n",
       "\n",
       "   race/ethnicity_group B  race/ethnicity_group C  race/ethnicity_group D  \\\n",
       "0                    True                   False                   False   \n",
       "1                   False                    True                   False   \n",
       "2                    True                   False                   False   \n",
       "3                   False                   False                   False   \n",
       "4                   False                    True                   False   \n",
       "\n",
       "   race/ethnicity_group E  \n",
       "0                   False  \n",
       "1                   False  \n",
       "2                   False  \n",
       "3                   False  \n",
       "4                   False  "
      ],
      "text/html": [
       "<div>\n",
       "<style scoped>\n",
       "    .dataframe tbody tr th:only-of-type {\n",
       "        vertical-align: middle;\n",
       "    }\n",
       "\n",
       "    .dataframe tbody tr th {\n",
       "        vertical-align: top;\n",
       "    }\n",
       "\n",
       "    .dataframe thead th {\n",
       "        text-align: right;\n",
       "    }\n",
       "</style>\n",
       "<table border=\"1\" class=\"dataframe\">\n",
       "  <thead>\n",
       "    <tr style=\"text-align: right;\">\n",
       "      <th></th>\n",
       "      <th>math score</th>\n",
       "      <th>reading score</th>\n",
       "      <th>writing score</th>\n",
       "      <th>pass/fail</th>\n",
       "      <th>gender_male</th>\n",
       "      <th>race/ethnicity_group B</th>\n",
       "      <th>race/ethnicity_group C</th>\n",
       "      <th>race/ethnicity_group D</th>\n",
       "      <th>race/ethnicity_group E</th>\n",
       "    </tr>\n",
       "  </thead>\n",
       "  <tbody>\n",
       "    <tr>\n",
       "      <th>0</th>\n",
       "      <td>72</td>\n",
       "      <td>72</td>\n",
       "      <td>74</td>\n",
       "      <td>1</td>\n",
       "      <td>False</td>\n",
       "      <td>True</td>\n",
       "      <td>False</td>\n",
       "      <td>False</td>\n",
       "      <td>False</td>\n",
       "    </tr>\n",
       "    <tr>\n",
       "      <th>1</th>\n",
       "      <td>69</td>\n",
       "      <td>90</td>\n",
       "      <td>88</td>\n",
       "      <td>1</td>\n",
       "      <td>False</td>\n",
       "      <td>False</td>\n",
       "      <td>True</td>\n",
       "      <td>False</td>\n",
       "      <td>False</td>\n",
       "    </tr>\n",
       "    <tr>\n",
       "      <th>2</th>\n",
       "      <td>90</td>\n",
       "      <td>95</td>\n",
       "      <td>93</td>\n",
       "      <td>1</td>\n",
       "      <td>False</td>\n",
       "      <td>True</td>\n",
       "      <td>False</td>\n",
       "      <td>False</td>\n",
       "      <td>False</td>\n",
       "    </tr>\n",
       "    <tr>\n",
       "      <th>3</th>\n",
       "      <td>47</td>\n",
       "      <td>57</td>\n",
       "      <td>44</td>\n",
       "      <td>1</td>\n",
       "      <td>True</td>\n",
       "      <td>False</td>\n",
       "      <td>False</td>\n",
       "      <td>False</td>\n",
       "      <td>False</td>\n",
       "    </tr>\n",
       "    <tr>\n",
       "      <th>4</th>\n",
       "      <td>76</td>\n",
       "      <td>78</td>\n",
       "      <td>75</td>\n",
       "      <td>1</td>\n",
       "      <td>True</td>\n",
       "      <td>False</td>\n",
       "      <td>True</td>\n",
       "      <td>False</td>\n",
       "      <td>False</td>\n",
       "    </tr>\n",
       "  </tbody>\n",
       "</table>\n",
       "</div>"
      ]
     },
     "metadata": {},
     "output_type": "display_data"
    }
   ],
   "execution_count": 63
  },
  {
   "metadata": {
    "ExecuteTime": {
     "end_time": "2024-10-07T17:01:11.906989Z",
     "start_time": "2024-10-07T17:01:11.882336Z"
    }
   },
   "cell_type": "code",
   "source": [
    "# Step 3: Split the data into features (X) and labels (y)\n",
    "X = students_data_new.drop('pass/fail', axis=1)  # Features (gender, race/ethnicity, scores)\n",
    "y = students_data_new['pass/fail']               # Labels (1 for pass, 0 for fail)\n",
    "\n",
    "# Split the data into training and testing sets (70% training, 30% testing)\n",
    "X_train, X_test, y_train, y_test = train_test_split(X, y, test_size=0.3, random_state=42)"
   ],
   "id": "38db6bf04bff247e",
   "outputs": [],
   "execution_count": 64
  },
  {
   "metadata": {
    "ExecuteTime": {
     "end_time": "2024-10-07T17:01:13.569184Z",
     "start_time": "2024-10-07T17:01:13.527957Z"
    }
   },
   "cell_type": "code",
   "source": [
    "# Step 4: Train a Logistic Regression model\n",
    "logreg_model = LogisticRegression()\n",
    "logreg_model.fit(X_train, y_train)\n",
    "\n",
    "# Predict on the test set\n",
    "logreg_pred = logreg_model.predict(X_test)"
   ],
   "id": "198dfc1c0a6c964",
   "outputs": [],
   "execution_count": 65
  },
  {
   "metadata": {
    "ExecuteTime": {
     "end_time": "2024-10-07T18:13:56.597642Z",
     "start_time": "2024-10-07T18:13:56.548505Z"
    }
   },
   "cell_type": "code",
   "source": [
    "# Step 5: Evaluate the model accuracy\n",
    "logreg_accuracy = accuracy_score(y_test, logreg_pred)\n",
    "logreg_accuracy  # Return the accuracy of the Logistic Regression model"
   ],
   "id": "30354a6ef1a19149",
   "outputs": [
    {
     "data": {
      "text/plain": [
       "0.9966666666666667"
      ]
     },
     "execution_count": 68,
     "metadata": {},
     "output_type": "execute_result"
    }
   ],
   "execution_count": 68
  },
  {
   "metadata": {
    "ExecuteTime": {
     "end_time": "2024-10-07T17:01:21.348183Z",
     "start_time": "2024-10-07T17:01:21.332183Z"
    }
   },
   "cell_type": "code",
   "source": [
    "\n",
    "# Step 6: Predict probabilities for each student (probability of passing or failing)\n",
    "probabilities = logreg_model.predict_proba(X_test)  # This returns probabilities for both classes (0 and 1)\n",
    "\n",
    "# Create a DataFrame to display the student IDs, actual outcomes, and predicted probabilities\n",
    "probability_df = pd.DataFrame({\n",
    "    'Student_ID': X_test.index,                  # Unique identifier for each student in the test set\n",
    "    'Pass_Probability': probabilities[:, 1],     # Probability of passing (class 1)\n",
    "    'Fail_Probability': probabilities[:, 0]      # Probability of failing (class 0)\n",
    "})\n",
    "\n",
    "# Display the top rows of the DataFrame\n",
    "print(probability_df)"
   ],
   "id": "a12a21c941e298b6",
   "outputs": [
    {
     "name": "stdout",
     "output_type": "stream",
     "text": [
      "     Student_ID  Pass_Probability  Fail_Probability\n",
      "0           521          1.000000          0.000000\n",
      "1           737          1.000000          0.000000\n",
      "2           740          1.000000          0.000000\n",
      "3           660          1.000000          0.000000\n",
      "4           411          1.000000          0.000000\n",
      "..          ...               ...               ...\n",
      "295         468          1.000000          0.000000\n",
      "296         935          1.000000          0.000000\n",
      "297         428          1.000000          0.000000\n",
      "298           7          0.863681          0.136319\n",
      "299         155          1.000000          0.000000\n",
      "\n",
      "[300 rows x 3 columns]\n"
     ]
    }
   ],
   "execution_count": 67
  }
 ],
 "metadata": {
  "kernelspec": {
   "display_name": "Python 3",
   "language": "python",
   "name": "python3"
  },
  "language_info": {
   "codemirror_mode": {
    "name": "ipython",
    "version": 2
   },
   "file_extension": ".py",
   "mimetype": "text/x-python",
   "name": "python",
   "nbconvert_exporter": "python",
   "pygments_lexer": "ipython2",
   "version": "2.7.6"
  }
 },
 "nbformat": 4,
 "nbformat_minor": 5
}
