{
 "cells": [
  {
   "metadata": {
    "ExecuteTime": {
     "end_time": "2024-12-10T11:14:00.694109Z",
     "start_time": "2024-12-10T11:14:00.662840Z"
    }
   },
   "cell_type": "code",
   "source": [
    "import numpy as np\n",
    "# This Python 3 environment comes with many helpful analytics libraries installed\n",
    "# It is defined by the kaggle/python docker image: https://github.com/kaggle/docker-python\n",
    "# For example, here's several helpful packages to load in \n",
    "\n",
    "import pandas as pd\n",
    "from sklearn import preprocessing\n",
    "%matplotlib inline\n",
    "# Input data files are available in the \"../input/\" directory.\n",
    "# For example, running this (by clicking run or pressing Shift+Enter) will list the files in the input directory\n",
    "\n",
    "import os\n",
    "print(os.listdir(\"./input\"))"
   ],
   "id": "4f6c9707cfa60187",
   "outputs": [
    {
     "name": "stdout",
     "output_type": "stream",
     "text": [
      "['fundamentals.csv', 'fundamentals.csv.zip', 'prices-split-adjusted.csv', 'prices-split-adjusted.csv.zip', 'prices.csv', 'prices.csv.zip', 'securities.csv']\n"
     ]
    }
   ],
   "execution_count": 37
  },
  {
   "metadata": {
    "ExecuteTime": {
     "end_time": "2024-12-10T11:14:01.216118Z",
     "start_time": "2024-12-10T11:14:00.694109Z"
    }
   },
   "cell_type": "code",
   "source": [
    "data_df =  pd.read_csv(\"./input/prices-split-adjusted.csv\", index_col = 0)\n",
    "data_df.head()"
   ],
   "id": "c765b2358ea195ae",
   "outputs": [
    {
     "data": {
      "text/plain": [
       "           symbol        open       close         low        high     volume\n",
       "date                                                                        \n",
       "2016-01-05   WLTW  123.430000  125.839996  122.309998  126.250000  2163600.0\n",
       "2016-01-06   WLTW  125.239998  119.980003  119.940002  125.540001  2386400.0\n",
       "2016-01-07   WLTW  116.379997  114.949997  114.930000  119.739998  2489500.0\n",
       "2016-01-08   WLTW  115.480003  116.620003  113.500000  117.440002  2006300.0\n",
       "2016-01-11   WLTW  117.010002  114.970001  114.089996  117.330002  1408600.0"
      ],
      "text/html": [
       "<div>\n",
       "<style scoped>\n",
       "    .dataframe tbody tr th:only-of-type {\n",
       "        vertical-align: middle;\n",
       "    }\n",
       "\n",
       "    .dataframe tbody tr th {\n",
       "        vertical-align: top;\n",
       "    }\n",
       "\n",
       "    .dataframe thead th {\n",
       "        text-align: right;\n",
       "    }\n",
       "</style>\n",
       "<table border=\"1\" class=\"dataframe\">\n",
       "  <thead>\n",
       "    <tr style=\"text-align: right;\">\n",
       "      <th></th>\n",
       "      <th>symbol</th>\n",
       "      <th>open</th>\n",
       "      <th>close</th>\n",
       "      <th>low</th>\n",
       "      <th>high</th>\n",
       "      <th>volume</th>\n",
       "    </tr>\n",
       "    <tr>\n",
       "      <th>date</th>\n",
       "      <th></th>\n",
       "      <th></th>\n",
       "      <th></th>\n",
       "      <th></th>\n",
       "      <th></th>\n",
       "      <th></th>\n",
       "    </tr>\n",
       "  </thead>\n",
       "  <tbody>\n",
       "    <tr>\n",
       "      <th>2016-01-05</th>\n",
       "      <td>WLTW</td>\n",
       "      <td>123.430000</td>\n",
       "      <td>125.839996</td>\n",
       "      <td>122.309998</td>\n",
       "      <td>126.250000</td>\n",
       "      <td>2163600.0</td>\n",
       "    </tr>\n",
       "    <tr>\n",
       "      <th>2016-01-06</th>\n",
       "      <td>WLTW</td>\n",
       "      <td>125.239998</td>\n",
       "      <td>119.980003</td>\n",
       "      <td>119.940002</td>\n",
       "      <td>125.540001</td>\n",
       "      <td>2386400.0</td>\n",
       "    </tr>\n",
       "    <tr>\n",
       "      <th>2016-01-07</th>\n",
       "      <td>WLTW</td>\n",
       "      <td>116.379997</td>\n",
       "      <td>114.949997</td>\n",
       "      <td>114.930000</td>\n",
       "      <td>119.739998</td>\n",
       "      <td>2489500.0</td>\n",
       "    </tr>\n",
       "    <tr>\n",
       "      <th>2016-01-08</th>\n",
       "      <td>WLTW</td>\n",
       "      <td>115.480003</td>\n",
       "      <td>116.620003</td>\n",
       "      <td>113.500000</td>\n",
       "      <td>117.440002</td>\n",
       "      <td>2006300.0</td>\n",
       "    </tr>\n",
       "    <tr>\n",
       "      <th>2016-01-11</th>\n",
       "      <td>WLTW</td>\n",
       "      <td>117.010002</td>\n",
       "      <td>114.970001</td>\n",
       "      <td>114.089996</td>\n",
       "      <td>117.330002</td>\n",
       "      <td>1408600.0</td>\n",
       "    </tr>\n",
       "  </tbody>\n",
       "</table>\n",
       "</div>"
      ]
     },
     "execution_count": 38,
     "metadata": {},
     "output_type": "execute_result"
    }
   ],
   "execution_count": 38
  },
  {
   "metadata": {
    "ExecuteTime": {
     "end_time": "2024-12-10T11:14:01.325913Z",
     "start_time": "2024-12-10T11:14:01.216118Z"
    }
   },
   "cell_type": "code",
   "source": [
    "data_df = data_df[data_df.symbol == 'IBM']\n",
    "data_df = data_df.drop(['symbol'],axis='columns')\n",
    "data_df.head()"
   ],
   "id": "428a9198da97028f",
   "outputs": [
    {
     "data": {
      "text/plain": [
       "                  open       close         low        high     volume\n",
       "date                                                                 \n",
       "2010-01-04  131.179993  132.449997  130.850006  132.970001  6155300.0\n",
       "2010-01-05  131.679993  130.850006  130.100006  131.850006  6841400.0\n",
       "2010-01-06  130.679993  130.000000  129.809998  131.490005  5605300.0\n",
       "2010-01-07  129.869995  129.550003  128.910004  130.250000  5840600.0\n",
       "2010-01-08  129.070007  130.850006  129.050003  130.919998  4197200.0"
      ],
      "text/html": [
       "<div>\n",
       "<style scoped>\n",
       "    .dataframe tbody tr th:only-of-type {\n",
       "        vertical-align: middle;\n",
       "    }\n",
       "\n",
       "    .dataframe tbody tr th {\n",
       "        vertical-align: top;\n",
       "    }\n",
       "\n",
       "    .dataframe thead th {\n",
       "        text-align: right;\n",
       "    }\n",
       "</style>\n",
       "<table border=\"1\" class=\"dataframe\">\n",
       "  <thead>\n",
       "    <tr style=\"text-align: right;\">\n",
       "      <th></th>\n",
       "      <th>open</th>\n",
       "      <th>close</th>\n",
       "      <th>low</th>\n",
       "      <th>high</th>\n",
       "      <th>volume</th>\n",
       "    </tr>\n",
       "    <tr>\n",
       "      <th>date</th>\n",
       "      <th></th>\n",
       "      <th></th>\n",
       "      <th></th>\n",
       "      <th></th>\n",
       "      <th></th>\n",
       "    </tr>\n",
       "  </thead>\n",
       "  <tbody>\n",
       "    <tr>\n",
       "      <th>2010-01-04</th>\n",
       "      <td>131.179993</td>\n",
       "      <td>132.449997</td>\n",
       "      <td>130.850006</td>\n",
       "      <td>132.970001</td>\n",
       "      <td>6155300.0</td>\n",
       "    </tr>\n",
       "    <tr>\n",
       "      <th>2010-01-05</th>\n",
       "      <td>131.679993</td>\n",
       "      <td>130.850006</td>\n",
       "      <td>130.100006</td>\n",
       "      <td>131.850006</td>\n",
       "      <td>6841400.0</td>\n",
       "    </tr>\n",
       "    <tr>\n",
       "      <th>2010-01-06</th>\n",
       "      <td>130.679993</td>\n",
       "      <td>130.000000</td>\n",
       "      <td>129.809998</td>\n",
       "      <td>131.490005</td>\n",
       "      <td>5605300.0</td>\n",
       "    </tr>\n",
       "    <tr>\n",
       "      <th>2010-01-07</th>\n",
       "      <td>129.869995</td>\n",
       "      <td>129.550003</td>\n",
       "      <td>128.910004</td>\n",
       "      <td>130.250000</td>\n",
       "      <td>5840600.0</td>\n",
       "    </tr>\n",
       "    <tr>\n",
       "      <th>2010-01-08</th>\n",
       "      <td>129.070007</td>\n",
       "      <td>130.850006</td>\n",
       "      <td>129.050003</td>\n",
       "      <td>130.919998</td>\n",
       "      <td>4197200.0</td>\n",
       "    </tr>\n",
       "  </tbody>\n",
       "</table>\n",
       "</div>"
      ]
     },
     "execution_count": 39,
     "metadata": {},
     "output_type": "execute_result"
    }
   ],
   "execution_count": 39
  },
  {
   "metadata": {
    "ExecuteTime": {
     "end_time": "2024-12-10T11:14:07.402818Z",
     "start_time": "2024-12-10T11:14:01.325913Z"
    }
   },
   "cell_type": "code",
   "source": [
    "from matplotlib import pyplot as plt\n",
    "\n",
    "plt.plot(data_df['close'])\n",
    "plt.xlabel(\"date\")\n",
    "plt.ylabel(\"close\")\n",
    "plt.show()"
   ],
   "id": "71b3e582f5680d66",
   "outputs": [
    {
     "data": {
      "text/plain": [
       "<Figure size 640x480 with 1 Axes>"
      ],
      "image/png": "[encoded data removed]"
     },
     "metadata": {},
     "output_type": "display_data"
    }
   ],
   "execution_count": 40
  },
  {
   "metadata": {
    "ExecuteTime": {
     "end_time": "2024-12-10T11:14:07.418445Z",
     "start_time": "2024-12-10T11:14:07.402818Z"
    }
   },
   "cell_type": "code",
   "source": [
    "data_df['date'] = data_df.index\n",
    "data_df.head()"
   ],
   "id": "2e9690b679fe7a99",
   "outputs": [
    {
     "data": {
      "text/plain": [
       "                  open       close         low        high     volume  \\\n",
       "date                                                                    \n",
       "2010-01-04  131.179993  132.449997  130.850006  132.970001  6155300.0   \n",
       "2010-01-05  131.679993  130.850006  130.100006  131.850006  6841400.0   \n",
       "2010-01-06  130.679993  130.000000  129.809998  131.490005  5605300.0   \n",
       "2010-01-07  129.869995  129.550003  128.910004  130.250000  5840600.0   \n",
       "2010-01-08  129.070007  130.850006  129.050003  130.919998  4197200.0   \n",
       "\n",
       "                  date  \n",
       "date                    \n",
       "2010-01-04  2010-01-04  \n",
       "2010-01-05  2010-01-05  \n",
       "2010-01-06  2010-01-06  \n",
       "2010-01-07  2010-01-07  \n",
       "2010-01-08  2010-01-08  "
      ],
      "text/html": [
       "<div>\n",
       "<style scoped>\n",
       "    .dataframe tbody tr th:only-of-type {\n",
       "        vertical-align: middle;\n",
       "    }\n",
       "\n",
       "    .dataframe tbody tr th {\n",
       "        vertical-align: top;\n",
       "    }\n",
       "\n",
       "    .dataframe thead th {\n",
       "        text-align: right;\n",
       "    }\n",
       "</style>\n",
       "<table border=\"1\" class=\"dataframe\">\n",
       "  <thead>\n",
       "    <tr style=\"text-align: right;\">\n",
       "      <th></th>\n",
       "      <th>open</th>\n",
       "      <th>close</th>\n",
       "      <th>low</th>\n",
       "      <th>high</th>\n",
       "      <th>volume</th>\n",
       "      <th>date</th>\n",
       "    </tr>\n",
       "    <tr>\n",
       "      <th>date</th>\n",
       "      <th></th>\n",
       "      <th></th>\n",
       "      <th></th>\n",
       "      <th></th>\n",
       "      <th></th>\n",
       "      <th></th>\n",
       "    </tr>\n",
       "  </thead>\n",
       "  <tbody>\n",
       "    <tr>\n",
       "      <th>2010-01-04</th>\n",
       "      <td>131.179993</td>\n",
       "      <td>132.449997</td>\n",
       "      <td>130.850006</td>\n",
       "      <td>132.970001</td>\n",
       "      <td>6155300.0</td>\n",
       "      <td>2010-01-04</td>\n",
       "    </tr>\n",
       "    <tr>\n",
       "      <th>2010-01-05</th>\n",
       "      <td>131.679993</td>\n",
       "      <td>130.850006</td>\n",
       "      <td>130.100006</td>\n",
       "      <td>131.850006</td>\n",
       "      <td>6841400.0</td>\n",
       "      <td>2010-01-05</td>\n",
       "    </tr>\n",
       "    <tr>\n",
       "      <th>2010-01-06</th>\n",
       "      <td>130.679993</td>\n",
       "      <td>130.000000</td>\n",
       "      <td>129.809998</td>\n",
       "      <td>131.490005</td>\n",
       "      <td>5605300.0</td>\n",
       "      <td>2010-01-06</td>\n",
       "    </tr>\n",
       "    <tr>\n",
       "      <th>2010-01-07</th>\n",
       "      <td>129.869995</td>\n",
       "      <td>129.550003</td>\n",
       "      <td>128.910004</td>\n",
       "      <td>130.250000</td>\n",
       "      <td>5840600.0</td>\n",
       "      <td>2010-01-07</td>\n",
       "    </tr>\n",
       "    <tr>\n",
       "      <th>2010-01-08</th>\n",
       "      <td>129.070007</td>\n",
       "      <td>130.850006</td>\n",
       "      <td>129.050003</td>\n",
       "      <td>130.919998</td>\n",
       "      <td>4197200.0</td>\n",
       "      <td>2010-01-08</td>\n",
       "    </tr>\n",
       "  </tbody>\n",
       "</table>\n",
       "</div>"
      ]
     },
     "execution_count": 41,
     "metadata": {},
     "output_type": "execute_result"
    }
   ],
   "execution_count": 41
  },
  {
   "metadata": {
    "ExecuteTime": {
     "end_time": "2024-12-10T11:14:07.434087Z",
     "start_time": "2024-12-10T11:14:07.418445Z"
    }
   },
   "cell_type": "code",
   "source": [
    "data_df['date'] = pd.to_datetime(data_df['date'])\n",
    "data_df.head()"
   ],
   "id": "1d6a2fd8d11c270d",
   "outputs": [
    {
     "data": {
      "text/plain": [
       "                  open       close         low        high     volume  \\\n",
       "date                                                                    \n",
       "2010-01-04  131.179993  132.449997  130.850006  132.970001  6155300.0   \n",
       "2010-01-05  131.679993  130.850006  130.100006  131.850006  6841400.0   \n",
       "2010-01-06  130.679993  130.000000  129.809998  131.490005  5605300.0   \n",
       "2010-01-07  129.869995  129.550003  128.910004  130.250000  5840600.0   \n",
       "2010-01-08  129.070007  130.850006  129.050003  130.919998  4197200.0   \n",
       "\n",
       "                 date  \n",
       "date                   \n",
       "2010-01-04 2010-01-04  \n",
       "2010-01-05 2010-01-05  \n",
       "2010-01-06 2010-01-06  \n",
       "2010-01-07 2010-01-07  \n",
       "2010-01-08 2010-01-08  "
      ],
      "text/html": [
       "<div>\n",
       "<style scoped>\n",
       "    .dataframe tbody tr th:only-of-type {\n",
       "        vertical-align: middle;\n",
       "    }\n",
       "\n",
       "    .dataframe tbody tr th {\n",
       "        vertical-align: top;\n",
       "    }\n",
       "\n",
       "    .dataframe thead th {\n",
       "        text-align: right;\n",
       "    }\n",
       "</style>\n",
       "<table border=\"1\" class=\"dataframe\">\n",
       "  <thead>\n",
       "    <tr style=\"text-align: right;\">\n",
       "      <th></th>\n",
       "      <th>open</th>\n",
       "      <th>close</th>\n",
       "      <th>low</th>\n",
       "      <th>high</th>\n",
       "      <th>volume</th>\n",
       "      <th>date</th>\n",
       "    </tr>\n",
       "    <tr>\n",
       "      <th>date</th>\n",
       "      <th></th>\n",
       "      <th></th>\n",
       "      <th></th>\n",
       "      <th></th>\n",
       "      <th></th>\n",
       "      <th></th>\n",
       "    </tr>\n",
       "  </thead>\n",
       "  <tbody>\n",
       "    <tr>\n",
       "      <th>2010-01-04</th>\n",
       "      <td>131.179993</td>\n",
       "      <td>132.449997</td>\n",
       "      <td>130.850006</td>\n",
       "      <td>132.970001</td>\n",
       "      <td>6155300.0</td>\n",
       "      <td>2010-01-04</td>\n",
       "    </tr>\n",
       "    <tr>\n",
       "      <th>2010-01-05</th>\n",
       "      <td>131.679993</td>\n",
       "      <td>130.850006</td>\n",
       "      <td>130.100006</td>\n",
       "      <td>131.850006</td>\n",
       "      <td>6841400.0</td>\n",
       "      <td>2010-01-05</td>\n",
       "    </tr>\n",
       "    <tr>\n",
       "      <th>2010-01-06</th>\n",
       "      <td>130.679993</td>\n",
       "      <td>130.000000</td>\n",
       "      <td>129.809998</td>\n",
       "      <td>131.490005</td>\n",
       "      <td>5605300.0</td>\n",
       "      <td>2010-01-06</td>\n",
       "    </tr>\n",
       "    <tr>\n",
       "      <th>2010-01-07</th>\n",
       "      <td>129.869995</td>\n",
       "      <td>129.550003</td>\n",
       "      <td>128.910004</td>\n",
       "      <td>130.250000</td>\n",
       "      <td>5840600.0</td>\n",
       "      <td>2010-01-07</td>\n",
       "    </tr>\n",
       "    <tr>\n",
       "      <th>2010-01-08</th>\n",
       "      <td>129.070007</td>\n",
       "      <td>130.850006</td>\n",
       "      <td>129.050003</td>\n",
       "      <td>130.919998</td>\n",
       "      <td>4197200.0</td>\n",
       "      <td>2010-01-08</td>\n",
       "    </tr>\n",
       "  </tbody>\n",
       "</table>\n",
       "</div>"
      ]
     },
     "execution_count": 42,
     "metadata": {},
     "output_type": "execute_result"
    }
   ],
   "execution_count": 42
  },
  {
   "metadata": {
    "ExecuteTime": {
     "end_time": "2024-12-10T11:14:07.449694Z",
     "start_time": "2024-12-10T11:14:07.434087Z"
    }
   },
   "cell_type": "code",
   "source": [
    "min_max_scaler = preprocessing.MinMaxScaler(feature_range=(0, 1))\n",
    "dataset = min_max_scaler.fit_transform(data_df['close'].values.reshape(-1, 1))\n",
    "dataset[0:10]"
   ],
   "id": "c07cd690b298de43",
   "outputs": [
    {
     "data": {
      "text/plain": [
       "array([[0.14905562],\n",
       "       [0.13272085],\n",
       "       [0.12404289],\n",
       "       [0.11944874],\n",
       "       [0.13272085],\n",
       "       [0.11873402],\n",
       "       [0.12924958],\n",
       "       [0.12639099],\n",
       "       [0.14762633],\n",
       "       [0.14221542]])"
      ]
     },
     "execution_count": 43,
     "metadata": {},
     "output_type": "execute_result"
    }
   ],
   "execution_count": 43
  },
  {
   "metadata": {
    "ExecuteTime": {
     "end_time": "2024-12-10T11:14:07.469514Z",
     "start_time": "2024-12-10T11:14:07.449694Z"
    }
   },
   "cell_type": "code",
   "source": [
    "print(len(data_df))\n",
    "\n",
    "def create_dataset(dataset, look_back=15):\n",
    "    dataX, dataY = [], []\n",
    "    for i in range(len(dataset)-look_back-1):\n",
    "        a = dataset[i:(i+look_back), 0]\n",
    "        dataX.append(a)\n",
    "        dataY.append(dataset[i + look_back, 0])\n",
    "    return np.array(dataX), np.array(dataY)"
   ],
   "id": "f16e4c5b503d6c48",
   "outputs": [
    {
     "name": "stdout",
     "output_type": "stream",
     "text": [
      "1762\n"
     ]
    }
   ],
   "execution_count": 44
  },
  {
   "metadata": {
    "ExecuteTime": {
     "end_time": "2024-12-10T11:14:07.485155Z",
     "start_time": "2024-12-10T11:14:07.469514Z"
    }
   },
   "cell_type": "code",
   "source": "x_IBM, y_IBM = create_dataset(dataset, look_back=15)",
   "id": "5100cdb92badba57",
   "outputs": [],
   "execution_count": 45
  },
  {
   "metadata": {
    "ExecuteTime": {
     "end_time": "2024-12-10T11:14:07.500778Z",
     "start_time": "2024-12-10T11:14:07.485155Z"
    }
   },
   "cell_type": "code",
   "source": [
    "print(x_IBM.shape)\n",
    "print(y_IBM.shape)"
   ],
   "id": "3a5b10ac42d34a94",
   "outputs": [
    {
     "name": "stdout",
     "output_type": "stream",
     "text": [
      "(1746, 15)\n",
      "(1746,)\n"
     ]
    }
   ],
   "execution_count": 46
  },
  {
   "metadata": {
    "ExecuteTime": {
     "end_time": "2024-12-10T11:14:07.516406Z",
     "start_time": "2024-12-10T11:14:07.500778Z"
    }
   },
   "cell_type": "code",
   "source": [
    "x_IBM = np.reshape(x_IBM, (x_IBM.shape[0], 1, x_IBM.shape[-1]))\n",
    "print(x_IBM.shape)\n",
    "print(y_IBM.shape)"
   ],
   "id": "f8badd1f6512b8d0",
   "outputs": [
    {
     "name": "stdout",
     "output_type": "stream",
     "text": [
      "(1746, 1, 15)\n",
      "(1746,)\n"
     ]
    }
   ],
   "execution_count": 47
  },
  {
   "metadata": {
    "ExecuteTime": {
     "end_time": "2024-12-10T11:14:07.626196Z",
     "start_time": "2024-12-10T11:14:07.516406Z"
    }
   },
   "cell_type": "code",
   "source": [
    "import tensorflow as tf\n",
    "\n",
    "\n",
    "\n",
    "# Assuming your model is saved as \"my_model\" in the \"models\" folder\n",
    "\n",
    "model_path = r\"C:\\Pratham\\programmingProjects\\pythonProgrammes\\Python-code-practice\\StockProject\\my_model.keras\"\n",
    "\n",
    "\n",
    "\n",
    "loaded_model = tf.keras.models.load_model(model_path)"
   ],
   "id": "6b050826cfd4551",
   "outputs": [],
   "execution_count": 48
  },
  {
   "metadata": {
    "ExecuteTime": {
     "end_time": "2024-12-10T11:14:08.130280Z",
     "start_time": "2024-12-10T11:14:07.626196Z"
    }
   },
   "cell_type": "code",
   "source": [
    "from sklearn.metrics import mean_squared_error\n",
    "import math\n",
    "\n",
    "predict = loaded_model.predict(x_IBM)\n",
    "predict = min_max_scaler.inverse_transform(predict)\n",
    "y_IBM = min_max_scaler.inverse_transform([y_IBM])\n",
    "\n",
    "# calculate root mean squared errort\n",
    "\n",
    "score = math.sqrt(mean_squared_error(y_IBM[0], predict[:,0]))\n",
    "\n",
    "print('Score: %.2f RMSE' % (score))"
   ],
   "id": "5e0c7c89e6399d2",
   "outputs": [
    {
     "name": "stdout",
     "output_type": "stream",
     "text": [
      "\u001B[1m55/55\u001B[0m \u001B[32m━━━━━━━━━━━━━━━━━━━━\u001B[0m\u001B[37m\u001B[0m \u001B[1m0s\u001B[0m 4ms/step\n",
      "Score: 2.33 RMSE\n"
     ]
    }
   ],
   "execution_count": 49
  },
  {
   "metadata": {
    "ExecuteTime": {
     "end_time": "2024-12-10T11:14:08.177801Z",
     "start_time": "2024-12-10T11:14:08.130280Z"
    }
   },
   "cell_type": "code",
   "source": [
    "look_back=15\n",
    "# shift predictions for plotting\n",
    "PredictPlot = np.empty_like(dataset)\n",
    "PredictPlot[:, :] = np.nan\n",
    "PredictPlot[len(predict)+(look_back*2)+1:len(dataset)-1, :] = predict\n",
    "# plot baseline and predictions\n",
    "plt.plot(min_max_scaler.inverse_transform(dataset))\n",
    "plt.plot(PredictPlot)\n",
    "plt.show()"
   ],
   "id": "9d8f33e061d846a4",
   "outputs": [
    {
     "ename": "ValueError",
     "evalue": "could not broadcast input array from shape (1746,1) into shape (0,1)",
     "output_type": "error",
     "traceback": [
      "\u001B[1;31m---------------------------------------------------------------------------\u001B[0m",
      "\u001B[1;31mValueError\u001B[0m                                Traceback (most recent call last)",
      "Cell \u001B[1;32mIn[50], line 5\u001B[0m\n\u001B[0;32m      3\u001B[0m PredictPlot \u001B[38;5;241m=\u001B[39m np\u001B[38;5;241m.\u001B[39mempty_like(dataset)\n\u001B[0;32m      4\u001B[0m PredictPlot[:, :] \u001B[38;5;241m=\u001B[39m np\u001B[38;5;241m.\u001B[39mnan\n\u001B[1;32m----> 5\u001B[0m \u001B[43mPredictPlot\u001B[49m\u001B[43m[\u001B[49m\u001B[38;5;28;43mlen\u001B[39;49m\u001B[43m(\u001B[49m\u001B[43mpredict\u001B[49m\u001B[43m)\u001B[49m\u001B[38;5;241;43m+\u001B[39;49m\u001B[43m(\u001B[49m\u001B[43mlook_back\u001B[49m\u001B[38;5;241;43m*\u001B[39;49m\u001B[38;5;241;43m2\u001B[39;49m\u001B[43m)\u001B[49m\u001B[38;5;241;43m+\u001B[39;49m\u001B[38;5;241;43m1\u001B[39;49m\u001B[43m:\u001B[49m\u001B[38;5;28;43mlen\u001B[39;49m\u001B[43m(\u001B[49m\u001B[43mdataset\u001B[49m\u001B[43m)\u001B[49m\u001B[38;5;241;43m-\u001B[39;49m\u001B[38;5;241;43m1\u001B[39;49m\u001B[43m,\u001B[49m\u001B[43m \u001B[49m\u001B[43m:\u001B[49m\u001B[43m]\u001B[49m \u001B[38;5;241m=\u001B[39m predict\n\u001B[0;32m      6\u001B[0m \u001B[38;5;66;03m# plot baseline and predictions\u001B[39;00m\n\u001B[0;32m      7\u001B[0m plt\u001B[38;5;241m.\u001B[39mplot(min_max_scaler\u001B[38;5;241m.\u001B[39minverse_transform(dataset))\n",
      "\u001B[1;31mValueError\u001B[0m: could not broadcast input array from shape (1746,1) into shape (0,1)"
     ]
    }
   ],
   "execution_count": 50
  }
 ],
 "metadata": {
  "kernelspec": {
   "display_name": "Python 3",
   "language": "python",
   "name": "python3"
  },
  "language_info": {
   "codemirror_mode": {
    "name": "ipython",
    "version": 2
   },
   "file_extension": ".py",
   "mimetype": "text/x-python",
   "name": "python",
   "nbconvert_exporter": "python",
   "pygments_lexer": "ipython2",
   "version": "2.7.6"
  }
 },
 "nbformat": 4,
 "nbformat_minor": 5
}
