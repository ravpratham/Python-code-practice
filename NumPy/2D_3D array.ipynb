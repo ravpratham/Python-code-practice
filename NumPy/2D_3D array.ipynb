{
 "cells": [
  {
   "cell_type": "code",
   "execution_count": 2,
   "id": "initial_id",
   "metadata": {
    "collapsed": true,
    "ExecuteTime": {
     "end_time": "2024-05-24T12:38:03.508231Z",
     "start_time": "2024-05-24T12:38:03.374851800Z"
    }
   },
   "outputs": [],
   "source": [
    "import numpy as np"
   ]
  },
  {
   "cell_type": "code",
   "outputs": [
    {
     "name": "stdout",
     "output_type": "stream",
     "text": [
      "[[ 1  2  3  4  5]\n",
      " [ 6  7  8  9 10]\n",
      " [11 12 13 14 15]]\n",
      "2\n",
      "[[['1' '2' '3' '4' '5']\n",
      "  ['6' '7' '8' '9' '10']\n",
      "  ['11' '12' '13' '14' '15']]\n",
      "\n",
      " [['a' 'b' 'c' 'd' 'e']\n",
      "  ['f' 'g' 'h' 'k' 'l']\n",
      "  ['m' 'n' 'o' 'p' 'q']]]\n",
      "3\n"
     ]
    }
   ],
   "source": [
    "l1 = [1,2,3,4,5]\n",
    "l2 = [6,7,8,9,10]\n",
    "l3 = [11,12,13,14,15]\n",
    "array1 = np.array([l1,l2,l3])\n",
    "print(array1)\n",
    "print(array1.ndim)\n",
    "l4 = ['a','b','c','d','e']\n",
    "l5 = ['f','g','h','k','l']\n",
    "l6 = ['m','n','o','p','q']\n",
    "\n",
    "array2 = np.array([[l1,l2,l3],[l4,l5,l6]]) \n",
    "print(array2)\n",
    "print(array2.ndim)"
   ],
   "metadata": {
    "collapsed": false,
    "ExecuteTime": {
     "end_time": "2024-05-24T12:39:58.523807600Z",
     "start_time": "2024-05-24T12:39:58.504801200Z"
    }
   },
   "id": "8042a4c78448202f",
   "execution_count": 4
  },
  {
   "cell_type": "code",
   "outputs": [
    {
     "name": "stdout",
     "output_type": "stream",
     "text": [
      "8\n",
      "8\n"
     ]
    }
   ],
   "source": [
    "print(array1[1][2])\n",
    "#OR\n",
    "print(array1[1,2])"
   ],
   "metadata": {
    "collapsed": false,
    "ExecuteTime": {
     "end_time": "2024-02-12T17:25:56.068297700Z",
     "start_time": "2024-02-12T17:25:56.052561200Z"
    }
   },
   "id": "669e0ae60bc55cd8",
   "execution_count": 8
  },
  {
   "cell_type": "code",
   "outputs": [
    {
     "name": "stdout",
     "output_type": "stream",
     "text": [
      "[[[ 1  2  3  4  5]\n",
      "  [ 6  7  8  9 10]]\n",
      "\n",
      " [[11 12 13 14 15]\n",
      "  [16 17 18 19 20]]]\n",
      "8\n",
      "(2, 2, 5)\n"
     ]
    }
   ],
   "source": [
    "#3D Array\n",
    "l1 = [1,2,3,4,5]\n",
    "l2 = [6,7,8,9,10]\n",
    "l3 = [11,12,13,14,15]\n",
    "l4 = [16,17,18,19,20]\n",
    "\n",
    "array2 = np.array([[l1,l2],[l3,l4]])\n",
    "print(array2)\n",
    "print(array2[0, 1, 2])\n",
    "print(array2.shape)"
   ],
   "metadata": {
    "collapsed": false,
    "ExecuteTime": {
     "end_time": "2024-02-16T07:59:15.412194300Z",
     "start_time": "2024-02-16T07:59:15.370856100Z"
    }
   },
   "id": "5dc34d22a764b9df",
   "execution_count": 7
  },
  {
   "cell_type": "code",
   "outputs": [],
   "source": [],
   "metadata": {
    "collapsed": false
   },
   "id": "4cde902b84af63b"
  }
 ],
 "metadata": {
  "kernelspec": {
   "display_name": "Python 3",
   "language": "python",
   "name": "python3"
  },
  "language_info": {
   "codemirror_mode": {
    "name": "ipython",
    "version": 2
   },
   "file_extension": ".py",
   "mimetype": "text/x-python",
   "name": "python",
   "nbconvert_exporter": "python",
   "pygments_lexer": "ipython2",
   "version": "2.7.6"
  }
 },
 "nbformat": 4,
 "nbformat_minor": 5
}
