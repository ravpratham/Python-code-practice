{
 "cells": [
  {
   "cell_type": "code",
   "outputs": [
    {
     "ename": "TypeError",
     "evalue": "'in <string>' requires string as left operand, not int",
     "output_type": "error",
     "traceback": [
      "\u001B[1;31m---------------------------------------------------------------------------\u001B[0m",
      "\u001B[1;31mTypeError\u001B[0m                                 Traceback (most recent call last)",
      "Cell \u001B[1;32mIn[1], line 10\u001B[0m\n\u001B[0;32m      8\u001B[0m                 newString \u001B[38;5;241m=\u001B[39m newString \u001B[38;5;241m+\u001B[39m s[i] \u001B[38;5;241m+\u001B[39m s[j]\n\u001B[0;32m      9\u001B[0m                 \u001B[38;5;28mprint\u001B[39m(newString)\n\u001B[1;32m---> 10\u001B[0m \u001B[43mlengthOfLongestSubstring\u001B[49m\u001B[43m(\u001B[49m\u001B[38;5;124;43m\"\u001B[39;49m\u001B[38;5;124;43mpwwkew\u001B[39;49m\u001B[38;5;124;43m\"\u001B[39;49m\u001B[43m)\u001B[49m\n",
      "Cell \u001B[1;32mIn[1], line 7\u001B[0m, in \u001B[0;36mlengthOfLongestSubstring\u001B[1;34m(s)\u001B[0m\n\u001B[0;32m      4\u001B[0m \u001B[38;5;28;01mfor\u001B[39;00m i \u001B[38;5;129;01min\u001B[39;00m \u001B[38;5;28mrange\u001B[39m(sLength):\n\u001B[0;32m      5\u001B[0m     \u001B[38;5;28;01mfor\u001B[39;00m j \u001B[38;5;129;01min\u001B[39;00m \u001B[38;5;28mrange\u001B[39m(i):\n\u001B[1;32m----> 7\u001B[0m         \u001B[38;5;28;01mif\u001B[39;00m \u001B[43mj\u001B[49m\u001B[43m \u001B[49m\u001B[38;5;129;43;01mnot\u001B[39;49;00m\u001B[43m \u001B[49m\u001B[38;5;129;43;01min\u001B[39;49;00m\u001B[43m \u001B[49m\u001B[43mnewString\u001B[49m:\n\u001B[0;32m      8\u001B[0m             newString \u001B[38;5;241m=\u001B[39m newString \u001B[38;5;241m+\u001B[39m s[i] \u001B[38;5;241m+\u001B[39m s[j]\n\u001B[0;32m      9\u001B[0m             \u001B[38;5;28mprint\u001B[39m(newString)\n",
      "\u001B[1;31mTypeError\u001B[0m: 'in <string>' requires string as left operand, not int"
     ]
    }
   ],
   "source": [
    "def lengthOfLongestSubstring(s):\n",
    "    sLength = len(s)\n",
    "    newString = \"\"\n",
    "    for i in range(sLength):\n",
    "        for j in range(i):\n",
    "            \n",
    "            if j not in newString:\n",
    "                newString = newString + s[i] + s[j]\n",
    "                print(newString)\n",
    "lengthOfLongestSubstring(\"pwwkew\")\n",
    "                "
   ],
   "metadata": {
    "collapsed": false,
    "ExecuteTime": {
     "end_time": "2024-05-24T11:51:29.153215900Z",
     "start_time": "2024-05-24T11:51:28.531844200Z"
    }
   },
   "id": "3b6ba2ee660dcb7d",
   "execution_count": 1
  },
  {
   "cell_type": "code",
   "outputs": [
    {
     "name": "stdout",
     "output_type": "stream",
     "text": [
      "['e', 'k', 'p', 'w', 'w', 'w']\n",
      "{'p', 'k', 'w', 'e'}\n"
     ]
    }
   ],
   "source": [
    "s = \"pwwkew\"\n",
    "S = list(s)\n",
    "S.sort()\n",
    "print(S)\n",
    "print(set(S))"
   ],
   "metadata": {
    "collapsed": false,
    "ExecuteTime": {
     "end_time": "2024-02-24T19:59:28.902430900Z",
     "start_time": "2024-02-24T19:59:28.880922900Z"
    }
   },
   "id": "1acb5e2bdae2064",
   "execution_count": 5
  },
  {
   "cell_type": "code",
   "outputs": [],
   "source": [
    "s = \"pwwkew\"\n",
    "newstring = \"\"\n",
    "for i in range(len(s)):\n",
    "    newstring = newstring + s[i]"
   ],
   "metadata": {
    "collapsed": false
   },
   "id": "3dbe2ca411d98f1c",
   "execution_count": null
  },
  {
   "metadata": {
    "ExecuteTime": {
     "end_time": "2025-01-31T17:47:54.303990Z",
     "start_time": "2025-01-31T17:47:45.664023Z"
    }
   },
   "cell_type": "code",
   "source": [
    "def binary_to_decimal(binaryNum):\n",
    "    list_binaryNum = [int(i) for i in binaryNum]\n",
    "    size = len(list_binaryNum)\n",
    "    answer = []\n",
    "    if size == 4:\n",
    "        x = 0\n",
    "        for i in range(size):\n",
    "            power = size-(i+1)\n",
    "            dec = 2**(power)*list_binaryNum[i]\n",
    "            x+=dec\n",
    "            answer.append(x)\n",
    "        return(answer[-1])\n",
    "            \n",
    "    # elif size == 3 or size == 2 or size == 1 or size == 0:\n",
    "    #     temp = list(binaryNum)\n",
    "    #     while (4-size==0):\n",
    "    #         temp.insert(0,0)\n",
    "    #         size+=1\n",
    "    #     binaryNum = str(temp)\n",
    "    #     binary_to_decimal(binaryNum)\n",
    "    # else:\n",
    "    #     print(\"invalid size\")\n",
    "\n",
    "num1 = input(\"Enter a number in binary form: \")\n",
    "num2 = input(\"Enter another number in binary form: \")\n",
    "decimal_num1=binary_to_decimal(num1)\n",
    "decimal_num2=binary_to_decimal(num2)\n",
    "print(str(decimal_num1 + decimal_num2))"
   ],
   "id": "18170faac88b309f",
   "outputs": [
    {
     "name": "stdout",
     "output_type": "stream",
     "text": [
      "12\n"
     ]
    }
   ],
   "execution_count": 17
  },
  {
   "metadata": {},
   "cell_type": "code",
   "outputs": [],
   "execution_count": null,
   "source": "",
   "id": "1000055cffdb3b04"
  }
 ],
 "metadata": {
  "kernelspec": {
   "display_name": "Python 3",
   "language": "python",
   "name": "python3"
  },
  "language_info": {
   "codemirror_mode": {
    "name": "ipython",
    "version": 2
   },
   "file_extension": ".py",
   "mimetype": "text/x-python",
   "name": "python",
   "nbconvert_exporter": "python",
   "pygments_lexer": "ipython2",
   "version": "2.7.6"
  }
 },
 "nbformat": 4,
 "nbformat_minor": 5
}
